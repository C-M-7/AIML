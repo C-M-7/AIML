{
 "cells": [
  {
   "cell_type": "code",
   "execution_count": 1,
   "metadata": {},
   "outputs": [],
   "source": [
    "import numpy as np"
   ]
  },
  {
   "cell_type": "code",
   "execution_count": null,
   "metadata": {},
   "outputs": [],
   "source": [
    "def fit(x_train, y_train):\n",
    "    result = {}\n",
    "    class_values = set(y_train) # Isse hum sb trh ki class values le skte hain kyunki apun ne set use kra hua mtlb basically jo answer hoega wo vli values\n",
    "    for current_class in class_values:\n",
    "        result[current_class] = {} # Isme humne unn classes ko features allot krdiye jo x_train ki headings thi na wo wli\n",
    "        result[\"total_data\"] = len(y_train)\n",
    "        current_class_rows = (y_train == current_class) # Ye mere tb kaam aana jb merko uss current class ki total values chiye mtlb ki wo class kidr kidr aari\n",
    "        x_train_current = x_train[current_class_rows] # isme hume vo x_train ki rows milengi jisme hmaari current class hogi\n",
    "        y_train_current = y_train[current_class_rows]\n",
    "        num_features = x_train.shape[1] # Isse hum saare features ka pta kr skte basically x_train ke columns ki count hai ye\n",
    "        result[current_class][\"total_count\"] = len(y_train_current) # kitni baar ek class ki rows aayi hain \n",
    "        for j in range(1,num_features + 1):\n",
    "            result[current_class][j] = {} # Ab isme jo apni uss feature ki values hai na jaise ki agr feature hai SALARY to values ho jaani Low, Mid, High\n",
    "            all_possible_values = set(x_train[:,j]) # isse maine uss current feature ki saari values nikaal li\n",
    "            for current_value in all_possible_values:\n",
    "                result[current_class][j][current_value] = (x_train_current[:,j] == current_value).sum()"
   ]
  },
  {
   "cell_type": "code",
   "execution_count": null,
   "metadata": {},
   "outputs": [],
   "source": []
  }
 ],
 "metadata": {
  "kernelspec": {
   "display_name": "Python 3",
   "language": "python",
   "name": "python3"
  },
  "language_info": {
   "codemirror_mode": {
    "name": "ipython",
    "version": 3
   },
   "file_extension": ".py",
   "mimetype": "text/x-python",
   "name": "python",
   "nbconvert_exporter": "python",
   "pygments_lexer": "ipython3",
   "version": "3.10.6"
  },
  "orig_nbformat": 4
 },
 "nbformat": 4,
 "nbformat_minor": 2
}
