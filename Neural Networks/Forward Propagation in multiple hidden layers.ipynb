{
 "cells": [
  {
   "cell_type": "code",
   "execution_count": 1,
   "id": "9c11f0a1",
   "metadata": {},
   "outputs": [],
   "source": [
    "import numpy as np"
   ]
  },
  {
   "cell_type": "code",
   "execution_count": 2,
   "id": "01b47643",
   "metadata": {},
   "outputs": [],
   "source": [
    "# And Gate\n",
    "X = np.array([[0,0],[0,1],[1,0],[1,1]])\n",
    "Y = np.array([[0],[0],[0],[1]])"
   ]
  },
  {
   "cell_type": "code",
   "execution_count": 3,
   "id": "0a49cc73",
   "metadata": {},
   "outputs": [
    {
     "data": {
      "text/plain": [
       "array([[0, 0],\n",
       "       [0, 1],\n",
       "       [1, 0],\n",
       "       [1, 1]])"
      ]
     },
     "execution_count": 3,
     "metadata": {},
     "output_type": "execute_result"
    }
   ],
   "source": [
    "X"
   ]
  },
  {
   "cell_type": "code",
   "execution_count": 4,
   "id": "46cf025b",
   "metadata": {},
   "outputs": [
    {
     "data": {
      "text/plain": [
       "array([[0],\n",
       "       [0],\n",
       "       [0],\n",
       "       [1]])"
      ]
     },
     "execution_count": 4,
     "metadata": {},
     "output_type": "execute_result"
    }
   ],
   "source": [
    "Y"
   ]
  },
  {
   "cell_type": "code",
   "execution_count": 5,
   "id": "30bd4bc7",
   "metadata": {},
   "outputs": [
    {
     "data": {
      "text/plain": [
       "((4, 2), (4, 1))"
      ]
     },
     "execution_count": 5,
     "metadata": {},
     "output_type": "execute_result"
    }
   ],
   "source": [
    "X.shape, Y.shape"
   ]
  },
  {
   "cell_type": "code",
   "execution_count": 6,
   "id": "b036b4d8",
   "metadata": {},
   "outputs": [],
   "source": [
    "#Activation Function\n",
    "def sig(z):\n",
    "    return 1/(1+np.exp(-z))"
   ]
  },
  {
   "cell_type": "code",
   "execution_count": 7,
   "id": "cfab8859",
   "metadata": {},
   "outputs": [
    {
     "data": {
      "text/plain": [
       "(array([[-0.79795631, -0.08812608],\n",
       "        [ 0.11276845,  0.59568097]]),\n",
       " array([[-0.69191641,  0.40381571]]),\n",
       " array([[ 0.45435504],\n",
       "        [-0.89640344]]),\n",
       " array([[-0.93881689]]))"
      ]
     },
     "execution_count": 7,
     "metadata": {},
     "output_type": "execute_result"
    }
   ],
   "source": [
    "#Considering random weights & bias for first hidden layer\n",
    "# we would require a 2x2 matrix for this case\n",
    "wh = 2 * np.random.random((2,2)) - 1\n",
    "# for biases we would create a 1x2 matrix as we have to add the bias to combined x & y\n",
    "bh = 2 * np.random.random((1,2)) - 1\n",
    "# making the weights for the output layer \n",
    "wo = 2 * np.random.random((2,1)) - 1\n",
    "# considering bias for the output\n",
    "bo = 2 * np.random.random((1,1)) - 1\n",
    "wh, bh, wo , bo"
   ]
  },
  {
   "cell_type": "code",
   "execution_count": 9,
   "id": "e0fbdb4b",
   "metadata": {},
   "outputs": [
    {
     "data": {
      "text/plain": [
       "array([[0.21003274],\n",
       "       [0.19296166],\n",
       "       [0.20203743],\n",
       "       [0.18442311]])"
      ]
     },
     "execution_count": 9,
     "metadata": {},
     "output_type": "execute_result"
    }
   ],
   "source": [
    "output0 = X\n",
    "outputHidden = sig(np.dot(output0, wh) + bh)\n",
    "output = sig(np.dot(outputHidden,wo) + bo)\n",
    "output"
   ]
  },
  {
   "cell_type": "code",
   "execution_count": null,
   "id": "909dd2cf",
   "metadata": {},
   "outputs": [],
   "source": []
  }
 ],
 "metadata": {
  "kernelspec": {
   "display_name": "Python 3 (ipykernel)",
   "language": "python",
   "name": "python3"
  },
  "language_info": {
   "codemirror_mode": {
    "name": "ipython",
    "version": 3
   },
   "file_extension": ".py",
   "mimetype": "text/x-python",
   "name": "python",
   "nbconvert_exporter": "python",
   "pygments_lexer": "ipython3",
   "version": "3.9.13"
  }
 },
 "nbformat": 4,
 "nbformat_minor": 5
}
